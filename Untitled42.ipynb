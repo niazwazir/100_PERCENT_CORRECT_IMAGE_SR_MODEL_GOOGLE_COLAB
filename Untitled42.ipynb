{
  "nbformat": 4,
  "nbformat_minor": 0,
  "metadata": {
    "colab": {
      "name": "Untitled42.ipynb",
      "provenance": [],
      "authorship_tag": "ABX9TyNvnFY54prAzReZMvBbh+/V",
      "include_colab_link": true
    },
    "kernelspec": {
      "name": "python3",
      "display_name": "Python 3"
    },
    "language_info": {
      "name": "python"
    },
    "accelerator": "GPU"
  },
  "cells": [
    {
      "cell_type": "markdown",
      "metadata": {
        "id": "view-in-github",
        "colab_type": "text"
      },
      "source": [
        "<a href=\"https://colab.research.google.com/github/niazwazir/100_PERCENT_CORRECT_IMAGE_SR_MODEL_GOOGLE_COLAB/blob/main/Untitled42.ipynb\" target=\"_parent\"><img src=\"https://colab.research.google.com/assets/colab-badge.svg\" alt=\"Open In Colab\"/></a>"
      ]
    },
    {
      "cell_type": "code",
      "metadata": {
        "colab": {
          "base_uri": "https://localhost:8080/"
        },
        "id": "lp6XGVPhTrDI",
        "outputId": "b14cf2a6-8c6d-421f-c05c-f8dde7b92b13"
      },
      "source": [
        "!git clone https://github.com/niazwazir/ESPCN_IMPORTED_WAZIR.git"
      ],
      "execution_count": null,
      "outputs": [
        {
          "output_type": "stream",
          "text": [
            "Cloning into 'ESPCN_IMPORTED_WAZIR'...\n",
            "remote: Enumerating objects: 2434, done.\u001b[K\n",
            "remote: Counting objects: 100% (2434/2434), done.\u001b[K\n",
            "remote: Compressing objects: 100% (1387/1387), done.\u001b[K\n",
            "remote: Total 2434 (delta 1052), reused 2209 (delta 1040), pack-reused 0\u001b[K\n",
            "Receiving objects: 100% (2434/2434), 147.44 MiB | 26.13 MiB/s, done.\n",
            "Resolving deltas: 100% (1052/1052), done.\n"
          ],
          "name": "stdout"
        }
      ]
    },
    {
      "cell_type": "code",
      "metadata": {
        "colab": {
          "base_uri": "https://localhost:8080/"
        },
        "id": "z6yWbYH9T2-0",
        "outputId": "929de7f3-7b78-413c-e788-f54a432b2379"
      },
      "source": [
        "!ls"
      ],
      "execution_count": null,
      "outputs": [
        {
          "output_type": "stream",
          "text": [
            "ESPCN_IMPORTED_WAZIR  sample_data\n"
          ],
          "name": "stdout"
        }
      ]
    },
    {
      "cell_type": "code",
      "metadata": {
        "colab": {
          "base_uri": "https://localhost:8080/"
        },
        "id": "p8JhAIL8UA2K",
        "outputId": "0488face-7b44-42f0-8cd2-b02b1eb51bdf"
      },
      "source": [
        "cd ESPCN_IMPORTED_WAZIR/"
      ],
      "execution_count": null,
      "outputs": [
        {
          "output_type": "stream",
          "text": [
            "/content/ESPCN_IMPORTED_WAZIR\n"
          ],
          "name": "stdout"
        }
      ]
    },
    {
      "cell_type": "code",
      "metadata": {
        "colab": {
          "base_uri": "https://localhost:8080/"
        },
        "id": "OOHoWQxWUCLT",
        "outputId": "1b831be8-7f51-4792-a282-b2d5f637e9ce"
      },
      "source": [
        "!ls"
      ],
      "execution_count": null,
      "outputs": [
        {
          "output_type": "stream",
          "text": [
            "16077x3.png\t\t\t   dataset    super_res.py\n",
            "batch_bicubic-PSNR_calculation.py  README.md  train.py\n",
            "batch_SR-PSNR_calculation.py\t   scripts\n"
          ],
          "name": "stdout"
        }
      ]
    },
    {
      "cell_type": "code",
      "metadata": {
        "colab": {
          "base_uri": "https://localhost:8080/"
        },
        "id": "fzgFNU23UDBT",
        "outputId": "459a4b11-c929-4070-e562-5a8e6d4775c2"
      },
      "source": [
        "cd dataset/"
      ],
      "execution_count": null,
      "outputs": [
        {
          "output_type": "stream",
          "text": [
            "/content/ESPCN_IMPORTED_WAZIR/dataset\n"
          ],
          "name": "stdout"
        }
      ]
    },
    {
      "cell_type": "code",
      "metadata": {
        "colab": {
          "base_uri": "https://localhost:8080/"
        },
        "id": "tp-uaaJnUF6T",
        "outputId": "afca85bc-6c99-4d18-bca7-ce59636fb7d0"
      },
      "source": [
        "!ls"
      ],
      "execution_count": null,
      "outputs": [
        {
          "output_type": "stream",
          "text": [
            "Train  Validation\n"
          ],
          "name": "stdout"
        }
      ]
    },
    {
      "cell_type": "code",
      "metadata": {
        "colab": {
          "base_uri": "https://localhost:8080/"
        },
        "id": "Jn2e7cqMUGia",
        "outputId": "9c0003ee-813f-46ab-fc40-3dc1e3feed7b"
      },
      "source": [
        "!zip -r Train.zip Train"
      ],
      "execution_count": null,
      "outputs": [
        {
          "output_type": "stream",
          "text": [
            "  adding: Train/ (stored 0%)\n",
            "  adding: Train/253027.png (deflated 0%)\n",
            "  adding: Train/163085.png (deflated 0%)\n",
            "  adding: Train/108005.png (deflated 0%)\n",
            "  adding: Train/299086.png (deflated 0%)\n",
            "  adding: Train/14037.png (deflated 0%)\n",
            "  adding: Train/167083.png (deflated 0%)\n",
            "  adding: Train/97033.png (deflated 0%)\n",
            "  adding: Train/89072.png (deflated 0%)\n",
            "  adding: Train/160068.png (deflated 0%)\n",
            "  adding: Train/182053.png (deflated 0%)\n",
            "  adding: Train/229036.png (deflated 0%)\n",
            "  adding: Train/58060.png (deflated 0%)\n",
            "  adding: Train/148089.png (deflated 0%)\n",
            "  adding: Train/38092.png (deflated 0%)\n",
            "  adding: Train/21077.png (deflated 0%)\n",
            "  adding: Train/43074.png (deflated 0%)\n",
            "  adding: Train/108070.png (deflated 0%)\n",
            "  adding: Train/351093.png (deflated 0%)\n",
            "  adding: Train/376043.png (deflated 1%)\n",
            "  adding: Train/101085.png (deflated 1%)\n",
            "  adding: Train/223061.png (deflated 0%)\n",
            "  adding: Train/86000.png (deflated 0%)\n",
            "  adding: Train/189080.png (deflated 0%)\n",
            "  adding: Train/147091.png (deflated 0%)\n",
            "  adding: Train/3096.png (deflated 0%)\n",
            "  adding: Train/119082.png (deflated 0%)\n",
            "  adding: Train/45096.png (deflated 0%)\n",
            "  adding: Train/145086.png (deflated 0%)\n",
            "  adding: Train/108082.png (deflated 0%)\n",
            "  adding: Train/130026.png (deflated 0%)\n",
            "  adding: Train/12084.png (deflated 0%)\n",
            "  adding: Train/109053.png (deflated 0%)\n",
            "  adding: Train/253055.png (deflated 0%)\n",
            "  adding: Train/260058.png (deflated 0%)\n",
            "  adding: Train/76053.png (deflated 0%)\n",
            "  adding: Train/361010.png (deflated 0%)\n",
            "  adding: Train/66053.png (deflated 0%)\n",
            "  adding: Train/170057.png (deflated 0%)\n",
            "  adding: Train/101087.png (deflated 0%)\n",
            "  adding: Train/24077.png (deflated 0%)\n",
            "  adding: Train/241048.png (deflated 0%)\n",
            "  adding: Train/271035.png (deflated 0%)\n",
            "  adding: Train/54082.png (deflated 0%)\n",
            "  adding: Train/220075.png (deflated 0%)\n",
            "  adding: Train/33039.png (deflated 1%)\n",
            "  adding: Train/216081.png (deflated 0%)\n",
            "  adding: Train/86016.png (deflated 1%)\n",
            "  adding: Train/296059.png (deflated 0%)\n",
            "  adding: Train/219090.png (deflated 0%)\n",
            "  adding: Train/241004.png (deflated 0%)\n",
            "  adding: Train/62096.png (deflated 0%)\n",
            "  adding: Train/227092.png (deflated 0%)\n",
            "  adding: Train/123074.png (deflated 0%)\n",
            "  adding: Train/78004.png (deflated 0%)\n",
            "  adding: Train/37073.png (deflated 0%)\n",
            "  adding: Train/102061.png (deflated 0%)\n",
            "  adding: Train/106024.png (deflated 0%)\n",
            "  adding: Train/175043.png (deflated 0%)\n",
            "  adding: Train/296007.png (deflated 1%)\n",
            "  adding: Train/41069.png (deflated 1%)\n",
            "  adding: Train/87046.png (deflated 0%)\n",
            "  adding: Train/167062.png (deflated 0%)\n",
            "  adding: Train/295087.png (deflated 0%)\n",
            "  adding: Train/302008.png (deflated 0%)\n",
            "  adding: Train/42049.png (deflated 0%)\n",
            "  adding: Train/134035.png (deflated 0%)\n",
            "  adding: Train/236037.png (deflated 0%)\n",
            "  adding: Train/126007.png (deflated 0%)\n",
            "  adding: Train/304074.png (deflated 1%)\n",
            "  adding: Train/156065.png (deflated 0%)\n",
            "  adding: Train/385039.png (deflated 0%)\n",
            "  adding: Train/208001.png (deflated 0%)\n",
            "  adding: Train/300091.png (deflated 0%)\n",
            "  adding: Train/175032.png (deflated 0%)\n",
            "  adding: Train/143090.png (deflated 0%)\n",
            "  adding: Train/304034.png (deflated 0%)\n",
            "  adding: Train/42012.png (deflated 0%)\n",
            "  adding: Train/41033.png (deflated 0%)\n",
            "  adding: Train/291000.png (deflated 0%)\n",
            "  adding: Train/157055.png (deflated 0%)\n",
            "  adding: Train/197017.png (deflated 0%)\n",
            "  adding: Train/69020.png (deflated 1%)\n",
            "  adding: Train/148026.png (deflated 0%)\n",
            "  adding: Train/55073.png (deflated 0%)\n",
            "  adding: Train/285079.png (deflated 0%)\n",
            "  adding: Train/196073.png (deflated 1%)\n",
            "  adding: Train/159008.png (deflated 0%)\n",
            "  adding: Train/210088.png (deflated 0%)\n",
            "  adding: Train/69040.png (deflated 0%)\n",
            "  adding: Train/19021.png (deflated 0%)\n",
            "  adding: Train/65033.png (deflated 0%)\n",
            "  adding: Train/8023.png (deflated 0%)\n",
            "  adding: Train/86068.png (deflated 1%)\n",
            "  adding: Train/85048.png (deflated 0%)\n",
            "  adding: Train/103070.png (deflated 0%)\n",
            "  adding: Train/105025.png (deflated 0%)\n",
            "  adding: Train/16077.png (deflated 0%)\n",
            "  adding: Train/69015.png (deflated 0%)\n",
            "  adding: Train/38082.png (deflated 1%)\n",
            "  adding: Train/306005.png (deflated 0%)\n"
          ],
          "name": "stdout"
        }
      ]
    },
    {
      "cell_type": "code",
      "metadata": {
        "colab": {
          "base_uri": "https://localhost:8080/"
        },
        "id": "nZHxu-g6UIkK",
        "outputId": "796d0b40-459b-42d3-d047-43b955857098"
      },
      "source": [
        "!zip -r Validation.zip Validation"
      ],
      "execution_count": null,
      "outputs": [
        {
          "output_type": "stream",
          "text": [
            "  adding: Validation/ (stored 0%)\n",
            "  adding: Validation/tt17.bmp (deflated 25%)\n",
            "  adding: Validation/t51.bmp (deflated 7%)\n",
            "  adding: Validation/t54.bmp (deflated 23%)\n",
            "  adding: Validation/t25.bmp (deflated 17%)\n",
            "  adding: Validation/tt6.bmp (deflated 6%)\n",
            "  adding: Validation/t27.bmp (deflated 11%)\n",
            "  adding: Validation/t1.bmp (deflated 7%)\n",
            "  adding: Validation/t34.bmp (deflated 17%)\n",
            "  adding: Validation/t44.bmp (deflated 25%)\n",
            "  adding: Validation/t53.bmp (deflated 24%)\n",
            "  adding: Validation/t30.bmp (deflated 12%)\n",
            "  adding: Validation/t48.bmp (deflated 22%)\n",
            "  adding: Validation/t24.bmp (deflated 12%)\n",
            "  adding: Validation/t33.bmp (deflated 13%)\n",
            "  adding: Validation/t66.bmp (deflated 28%)\n",
            "  adding: Validation/tt25.bmp (deflated 16%)\n",
            "  adding: Validation/t21.bmp (deflated 18%)\n",
            "  adding: Validation/t9.bmp (deflated 19%)\n",
            "  adding: Validation/t45.bmp (deflated 6%)\n",
            "  adding: Validation/tt15.bmp (deflated 11%)\n",
            "  adding: Validation/tt7.bmp (deflated 9%)\n",
            "  adding: Validation/t26.bmp (deflated 8%)\n",
            "  adding: Validation/t6.bmp (deflated 8%)\n",
            "  adding: Validation/t32.bmp (deflated 7%)\n",
            "  adding: Validation/t5.bmp (deflated 39%)\n",
            "  adding: Validation/t55.bmp (deflated 65%)\n",
            "  adding: Validation/tt8.bmp (deflated 24%)\n",
            "  adding: Validation/t39.bmp (deflated 33%)\n",
            "  adding: Validation/t17.bmp (deflated 5%)\n",
            "  adding: Validation/t18.bmp (deflated 10%)\n",
            "  adding: Validation/tt22.bmp (deflated 26%)\n",
            "  adding: Validation/tt16.bmp (deflated 24%)\n",
            "  adding: Validation/tt18.bmp (deflated 13%)\n",
            "  adding: Validation/t47.bmp (deflated 11%)\n",
            "  adding: Validation/t59.bmp (deflated 12%)\n",
            "  adding: Validation/t65.bmp (deflated 13%)\n",
            "  adding: Validation/t52.bmp (deflated 30%)\n",
            "  adding: Validation/t22.bmp (deflated 19%)\n",
            "  adding: Validation/t57.bmp (deflated 9%)\n",
            "  adding: Validation/t11.bmp (deflated 5%)\n",
            "  adding: Validation/tt4.bmp (deflated 15%)\n",
            "  adding: Validation/tt26.bmp (deflated 3%)\n",
            "  adding: Validation/tt23.bmp (deflated 9%)\n",
            "  adding: Validation/t43.bmp (deflated 17%)\n",
            "  adding: Validation/t35.bmp (deflated 6%)\n",
            "  adding: Validation/tt27.bmp (deflated 11%)\n",
            "  adding: Validation/t19.bmp (deflated 8%)\n",
            "  adding: Validation/tt13.bmp (deflated 5%)\n",
            "  adding: Validation/t28.bmp (deflated 13%)\n",
            "  adding: Validation/tt19.bmp (deflated 23%)\n",
            "  adding: Validation/t2.bmp (deflated 11%)\n",
            "  adding: Validation/t7.bmp (deflated 13%)\n",
            "  adding: Validation/tt21.bmp (deflated 15%)\n",
            "  adding: Validation/tt9.bmp (deflated 12%)\n",
            "  adding: Validation/t58.bmp (deflated 37%)\n",
            "  adding: Validation/t29.bmp (deflated 4%)\n",
            "  adding: Validation/t10.bmp (deflated 2%)\n",
            "  adding: Validation/t64.bmp (deflated 7%)\n",
            "  adding: Validation/tt14.bmp (deflated 13%)\n",
            "  adding: Validation/t40.bmp (deflated 13%)\n",
            "  adding: Validation/t37.bmp (deflated 7%)\n",
            "  adding: Validation/t14.bmp (deflated 37%)\n",
            "  adding: Validation/t23.bmp (deflated 19%)\n",
            "  adding: Validation/t56.bmp (deflated 21%)\n",
            "  adding: Validation/t38.bmp (deflated 34%)\n",
            "  adding: Validation/t3.bmp (deflated 17%)\n",
            "  adding: Validation/t12.bmp (deflated 14%)\n",
            "  adding: Validation/t8.bmp (deflated 4%)\n",
            "  adding: Validation/t36.bmp (deflated 13%)\n",
            "  adding: Validation/t46.bmp (deflated 14%)\n",
            "  adding: Validation/t61.bmp (deflated 31%)\n",
            "  adding: Validation/t13.bmp (deflated 20%)\n",
            "  adding: Validation/t49.bmp (deflated 27%)\n",
            "  adding: Validation/tt24.bmp (deflated 11%)\n",
            "  adding: Validation/t63.bmp (deflated 36%)\n",
            "  adding: Validation/t16.bmp (deflated 10%)\n",
            "  adding: Validation/tt2.bmp (deflated 25%)\n",
            "  adding: Validation/tt20.bmp (deflated 12%)\n",
            "  adding: Validation/tt1.bmp (deflated 19%)\n",
            "  adding: Validation/t60.bmp (deflated 22%)\n",
            "  adding: Validation/tt12.bmp (deflated 12%)\n",
            "  adding: Validation/t42.bmp (deflated 23%)\n",
            "  adding: Validation/tt3.bmp (deflated 14%)\n",
            "  adding: Validation/t15.bmp (deflated 11%)\n",
            "  adding: Validation/tt10.bmp (deflated 5%)\n",
            "  adding: Validation/t4.bmp (deflated 5%)\n",
            "  adding: Validation/t31.bmp (deflated 11%)\n",
            "  adding: Validation/t20.bmp (deflated 10%)\n",
            "  adding: Validation/t62.bmp (deflated 16%)\n",
            "  adding: Validation/tt5.bmp (deflated 7%)\n"
          ],
          "name": "stdout"
        }
      ]
    },
    {
      "cell_type": "code",
      "metadata": {
        "colab": {
          "base_uri": "https://localhost:8080/"
        },
        "id": "ebeRiHDVURlm",
        "outputId": "3952a65f-6631-4606-9c8a-ac0b6473f2a1"
      },
      "source": [
        "!ls"
      ],
      "execution_count": null,
      "outputs": [
        {
          "output_type": "stream",
          "text": [
            "Train  Train.zip  Validation  Validation.zip\n"
          ],
          "name": "stdout"
        }
      ]
    },
    {
      "cell_type": "code",
      "metadata": {
        "colab": {
          "base_uri": "https://localhost:8080/"
        },
        "id": "6rqEgo9CUUTy",
        "outputId": "b629c042-88f6-4dfb-c43e-f9e98f609576"
      },
      "source": [
        "cd .."
      ],
      "execution_count": null,
      "outputs": [
        {
          "output_type": "stream",
          "text": [
            "/content/ESPCN_IMPORTED_WAZIR\n"
          ],
          "name": "stdout"
        }
      ]
    },
    {
      "cell_type": "code",
      "metadata": {
        "colab": {
          "base_uri": "https://localhost:8080/"
        },
        "id": "zw-iV1akUVhB",
        "outputId": "363c8970-cf1c-4a4a-8274-2499712e72ee"
      },
      "source": [
        "!ls"
      ],
      "execution_count": null,
      "outputs": [
        {
          "output_type": "stream",
          "text": [
            "16077x3.png\t\t\t   dataset    super_res.py\n",
            "batch_bicubic-PSNR_calculation.py  README.md  train.py\n",
            "batch_SR-PSNR_calculation.py\t   scripts\n"
          ],
          "name": "stdout"
        }
      ]
    },
    {
      "cell_type": "code",
      "metadata": {
        "id": "YMNHiIBrWJQD"
      },
      "source": [
        "#FOR BEST RESULT YOU SHOULD CHANGE DATASETS, BECAUSE I USED SAME DATASET IN TRAINING AS WELL AS IN VALIDATION (YANG91)\n",
        "#/content/ESPCN_IMPORTED_WAZIR/dataset/Train.zip\n",
        "#Press 1\n",
        "#/content/ESPCN_IMPORTED_WAZIR/dataset/Train\n",
        "#/content/ESPCN_IMPORTED_WAZIR/dataset/Validation.zip\n",
        "#Press 1\n",
        "#/content/ESPCN_IMPORTED_WAZIR/dataset/Validation"
      ],
      "execution_count": null,
      "outputs": []
    },
    {
      "cell_type": "code",
      "metadata": {
        "colab": {
          "base_uri": "https://localhost:8080/"
        },
        "id": "vguxnhUnUWEg",
        "outputId": "10bd6473-1c34-4ee3-cafa-a1b49e9ca34e"
      },
      "source": [
        "!python train.py --upscale 3 --trainBatchSize 4 --validBatchSize 100 --lr 0.0003 --cropSize 17 --nEpochs 5 --func leaky"
      ],
      "execution_count": null,
      "outputs": [
        {
          "output_type": "stream",
          "text": [
            "Input args:Namespace(cropSize=17, cuda=False, func='leaky', lr=0.0003, nEpochs=5, nWorkers=8, seed=42, trainBatchSize=4, upscale=3, validBatchSize=100)\n",
            "\n",
            " ██████ Training and Validation Data Preparation ██████\n",
            "Important! Place everything in the same folder, since this code uses relative paths!\n",
            "Path input examples: dataset.zip or folder\\dataset.zip\n",
            "-------------------------------------------------------\n",
            "\n",
            "\n",
            "Type in the relative path of training data set: /content/ESPCN_IMPORTED_WAZIR/dataset/Train.zip\n",
            "Path: /content/ESPCN_IMPORTED_WAZIR/dataset/Train.zip\n",
            "Does the zip include images on root or inside folder?\n",
            "Type 1 for yes, 0 for no: 1\n",
            "Type the path until images are seen: /content/ESPCN_IMPORTED_WAZIR/dataset/Train\n",
            "\n",
            "Type in the relative path of validation data set: /content/ESPCN_IMPORTED_WAZIR/dataset/Validation.zip\n",
            "Path: /content/ESPCN_IMPORTED_WAZIR/dataset/Validation.zip\n",
            "Does the zip include images on root or inside folder?\n",
            "Type 1 for yes, 0 for no: 1\n",
            "Type the path until images are seen: /content/ESPCN_IMPORTED_WAZIR/dataset/Validation\n",
            "\n",
            " ██████ Loading Data into Dataset ██████\n",
            "-------------------------------------------------------\n",
            "\n",
            "/usr/local/lib/python3.7/dist-packages/torch/utils/data/dataloader.py:481: UserWarning: This DataLoader will create 8 worker processes in total. Our suggested max number of worker in current system is 2, which is smaller than what this DataLoader is going to create. Please be aware that excessive worker creation might get DataLoader running slow or even freeze, lower the worker number to avoid potential slowness/freeze if necessary.\n",
            "  cpuset_checked))\n",
            "Epoch (1/5) is done! See root dir for logs and models\n",
            "Epoch (2/5) is done! See root dir for logs and models\n",
            "Epoch (3/5) is done! See root dir for logs and models\n",
            "Epoch (4/5) is done! See root dir for logs and models\n",
            "Epoch (5/5) is done! See root dir for logs and models\n"
          ],
          "name": "stdout"
        }
      ]
    },
    {
      "cell_type": "code",
      "metadata": {
        "colab": {
          "base_uri": "https://localhost:8080/"
        },
        "id": "QsxIJEQXWXDY",
        "outputId": "ff8a1fd1-f716-4ae4-d8d3-d5e673bb958e"
      },
      "source": [
        "!ls"
      ],
      "execution_count": null,
      "outputs": [
        {
          "output_type": "stream",
          "text": [
            " 16077x3.png\t\t\t    'extr\\train'\t    scripts\n",
            " batch_bicubic-PSNR_calculation.py  'extr\\valid'\t    super_res.py\n",
            " batch_SR-PSNR_calculation.py\t     logs_scale_3_crop_17   train.py\n",
            " dataset\t\t\t     README.md\n"
          ],
          "name": "stdout"
        }
      ]
    },
    {
      "cell_type": "code",
      "metadata": {
        "colab": {
          "base_uri": "https://localhost:8080/"
        },
        "id": "9kIzKcNXWXtC",
        "outputId": "caf3c741-a6ea-44b0-bbce-634b2a490a86"
      },
      "source": [
        "!python super_res.py --input 16077x3.png --model logs_scale_3_crop_17/epoch_5_model.pth --output SuperRes-Image.png --cuda"
      ],
      "execution_count": null,
      "outputs": [
        {
          "output_type": "stream",
          "text": [
            "Input args:Namespace(compare='None', cuda=True, input='16077x3.png', model='logs_scale_3_crop_17/epoch_5_model.pth', output='SuperRes-Image.png')\n",
            "output image saved to  SuperRes-Image.png\n"
          ],
          "name": "stdout"
        }
      ]
    },
    {
      "cell_type": "code",
      "metadata": {
        "colab": {
          "base_uri": "https://localhost:8080/"
        },
        "id": "k9RlR2rzWdjT",
        "outputId": "4abec76d-5ee6-4032-d38c-0219616b5829"
      },
      "source": [
        "!ls"
      ],
      "execution_count": null,
      "outputs": [
        {
          "output_type": "stream",
          "text": [
            " 16077x3.png\t\t\t    'extr\\train'\t    scripts\n",
            " batch_bicubic-PSNR_calculation.py  'extr\\valid'\t    SuperRes-Image.png\n",
            " batch_SR-PSNR_calculation.py\t     logs_scale_3_crop_17   super_res.py\n",
            " dataset\t\t\t     README.md\t\t    train.py\n"
          ],
          "name": "stdout"
        }
      ]
    },
    {
      "cell_type": "code",
      "metadata": {
        "colab": {
          "base_uri": "https://localhost:8080/"
        },
        "id": "Wuhu0BLVXb97",
        "outputId": "0bb3f5fa-fb74-4d9e-abd8-9282cba42dce"
      },
      "source": [
        "!ls"
      ],
      "execution_count": null,
      "outputs": [
        {
          "output_type": "stream",
          "text": [
            " 16077x3.png\t\t\t    'extr\\train'\t    scripts\n",
            " batch_bicubic-PSNR_calculation.py  'extr\\valid'\t    SuperRes-Image.png\n",
            " batch_SR-PSNR_calculation.py\t     logs_scale_3_crop_17   super_res.py\n",
            " dataset\t\t\t     README.md\t\t    train.py\n"
          ],
          "name": "stdout"
        }
      ]
    },
    {
      "cell_type": "code",
      "metadata": {
        "colab": {
          "base_uri": "https://localhost:8080/",
          "height": 17
        },
        "id": "YHgKjyauXce3",
        "outputId": "896ba67f-d1be-41eb-9944-cd1f91f5440e"
      },
      "source": [
        "#THIS COMMAND IS USED TO DOWNLOAD TRAINED MODEL\n",
        "from google.colab import files\n",
        "files.download('logs_scale_3_crop_17/PSNR_value_list.log')"
      ],
      "execution_count": null,
      "outputs": [
        {
          "output_type": "display_data",
          "data": {
            "application/javascript": [
              "\n",
              "    async function download(id, filename, size) {\n",
              "      if (!google.colab.kernel.accessAllowed) {\n",
              "        return;\n",
              "      }\n",
              "      const div = document.createElement('div');\n",
              "      const label = document.createElement('label');\n",
              "      label.textContent = `Downloading \"${filename}\": `;\n",
              "      div.appendChild(label);\n",
              "      const progress = document.createElement('progress');\n",
              "      progress.max = size;\n",
              "      div.appendChild(progress);\n",
              "      document.body.appendChild(div);\n",
              "\n",
              "      const buffers = [];\n",
              "      let downloaded = 0;\n",
              "\n",
              "      const channel = await google.colab.kernel.comms.open(id);\n",
              "      // Send a message to notify the kernel that we're ready.\n",
              "      channel.send({})\n",
              "\n",
              "      for await (const message of channel.messages) {\n",
              "        // Send a message to notify the kernel that we're ready.\n",
              "        channel.send({})\n",
              "        if (message.buffers) {\n",
              "          for (const buffer of message.buffers) {\n",
              "            buffers.push(buffer);\n",
              "            downloaded += buffer.byteLength;\n",
              "            progress.value = downloaded;\n",
              "          }\n",
              "        }\n",
              "      }\n",
              "      const blob = new Blob(buffers, {type: 'application/binary'});\n",
              "      const a = document.createElement('a');\n",
              "      a.href = window.URL.createObjectURL(blob);\n",
              "      a.download = filename;\n",
              "      div.appendChild(a);\n",
              "      a.click();\n",
              "      div.remove();\n",
              "    }\n",
              "  "
            ],
            "text/plain": [
              "<IPython.core.display.Javascript object>"
            ]
          },
          "metadata": {
            "tags": []
          }
        },
        {
          "output_type": "display_data",
          "data": {
            "application/javascript": [
              "download(\"download_24ea8359-3b47-44af-947c-87a1d0b2f3ee\", \"PSNR_value_list.log\", 155)"
            ],
            "text/plain": [
              "<IPython.core.display.Javascript object>"
            ]
          },
          "metadata": {
            "tags": []
          }
        }
      ]
    },
    {
      "cell_type": "code",
      "metadata": {
        "id": "iYkDiwgbX4LN"
      },
      "source": [
        ""
      ],
      "execution_count": null,
      "outputs": []
    }
  ]
}